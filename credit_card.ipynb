{
 "cells": [
  {
   "cell_type": "markdown",
   "id": "golden-accounting",
   "metadata": {},
   "source": [
    "# Credit Card Fraud Detection"
   ]
  },
  {
   "cell_type": "code",
   "execution_count": 1,
   "id": "4f520886",
   "metadata": {},
   "outputs": [
    {
     "name": "stderr",
     "output_type": "stream",
     "text": [
      "2022-02-24 20:39:31.900095: W tensorflow/stream_executor/platform/default/dso_loader.cc:64] Could not load dynamic library 'libcudart.so.11.0'; dlerror: libcudart.so.11.0: cannot open shared object file: No such file or directory\n",
      "2022-02-24 20:39:31.900161: I tensorflow/stream_executor/cuda/cudart_stub.cc:29] Ignore above cudart dlerror if you do not have a GPU set up on your machine.\n"
     ]
    }
   ],
   "source": [
    "''' Linear Algebra'''\n",
    "import pandas as pd\n",
    "import numpy as np\n",
    "\n",
    "''' Data visualisation'''\n",
    "import matplotlib.pyplot as plt\n",
    "import seaborn as sns\n",
    "import warnings\n",
    "\n",
    "''' Imbalanced Classes'''\n",
    "import imblearn\n",
    "from imblearn.over_sampling import SMOTE\n",
    "from imblearn.under_sampling import RandomUnderSampler\n",
    "from imblearn.pipeline import Pipeline\n",
    "\n",
    "''' Scikit-Learn'''\n",
    "from sklearn.model_selection import train_test_split\n",
    "from sklearn.preprocessing import StandardScaler\n",
    "from sklearn.metrics import confusion_matrix\n",
    "\n",
    "\n",
    "''' Tensorflow Keras'''\n",
    "from tensorflow import keras\n",
    "from tensorflow.keras.layers.experimental.preprocessing import Normalization\n",
    "from tensorflow.keras.models import Sequential\n",
    "from tensorflow.keras import layers\n",
    "from tensorflow.keras.optimizers import Adam\n",
    "from tensorflow.keras.callbacks import EarlyStopping"
   ]
  },
  {
   "cell_type": "markdown",
   "id": "descending-glasgow",
   "metadata": {},
   "source": [
    "## 1. Rebalancing classes"
   ]
  },
  {
   "cell_type": "code",
   "execution_count": 2,
   "id": "d8e5ea7d",
   "metadata": {},
   "outputs": [],
   "source": [
    "# Load data\n",
    "df = pd.read_csv(\"creditcard.csv\")"
   ]
  },
  {
   "cell_type": "code",
   "execution_count": 3,
   "id": "c36adf67",
   "metadata": {
    "scrolled": true
   },
   "outputs": [
    {
     "data": {
      "text/html": [
       "<div>\n",
       "<style scoped>\n",
       "    .dataframe tbody tr th:only-of-type {\n",
       "        vertical-align: middle;\n",
       "    }\n",
       "\n",
       "    .dataframe tbody tr th {\n",
       "        vertical-align: top;\n",
       "    }\n",
       "\n",
       "    .dataframe thead th {\n",
       "        text-align: right;\n",
       "    }\n",
       "</style>\n",
       "<table border=\"1\" class=\"dataframe\">\n",
       "  <thead>\n",
       "    <tr style=\"text-align: right;\">\n",
       "      <th></th>\n",
       "      <th>Time</th>\n",
       "      <th>V1</th>\n",
       "      <th>V2</th>\n",
       "      <th>V3</th>\n",
       "      <th>V4</th>\n",
       "      <th>V5</th>\n",
       "      <th>V6</th>\n",
       "      <th>V7</th>\n",
       "      <th>V8</th>\n",
       "      <th>V9</th>\n",
       "      <th>...</th>\n",
       "      <th>V21</th>\n",
       "      <th>V22</th>\n",
       "      <th>V23</th>\n",
       "      <th>V24</th>\n",
       "      <th>V25</th>\n",
       "      <th>V26</th>\n",
       "      <th>V27</th>\n",
       "      <th>V28</th>\n",
       "      <th>Amount</th>\n",
       "      <th>Class</th>\n",
       "    </tr>\n",
       "  </thead>\n",
       "  <tbody>\n",
       "    <tr>\n",
       "      <th>0</th>\n",
       "      <td>0.0</td>\n",
       "      <td>-1.359807</td>\n",
       "      <td>-0.072781</td>\n",
       "      <td>2.536347</td>\n",
       "      <td>1.378155</td>\n",
       "      <td>-0.338321</td>\n",
       "      <td>0.462388</td>\n",
       "      <td>0.239599</td>\n",
       "      <td>0.098698</td>\n",
       "      <td>0.363787</td>\n",
       "      <td>...</td>\n",
       "      <td>-0.018307</td>\n",
       "      <td>0.277838</td>\n",
       "      <td>-0.110474</td>\n",
       "      <td>0.066928</td>\n",
       "      <td>0.128539</td>\n",
       "      <td>-0.189115</td>\n",
       "      <td>0.133558</td>\n",
       "      <td>-0.021053</td>\n",
       "      <td>149.62</td>\n",
       "      <td>0</td>\n",
       "    </tr>\n",
       "    <tr>\n",
       "      <th>1</th>\n",
       "      <td>0.0</td>\n",
       "      <td>1.191857</td>\n",
       "      <td>0.266151</td>\n",
       "      <td>0.166480</td>\n",
       "      <td>0.448154</td>\n",
       "      <td>0.060018</td>\n",
       "      <td>-0.082361</td>\n",
       "      <td>-0.078803</td>\n",
       "      <td>0.085102</td>\n",
       "      <td>-0.255425</td>\n",
       "      <td>...</td>\n",
       "      <td>-0.225775</td>\n",
       "      <td>-0.638672</td>\n",
       "      <td>0.101288</td>\n",
       "      <td>-0.339846</td>\n",
       "      <td>0.167170</td>\n",
       "      <td>0.125895</td>\n",
       "      <td>-0.008983</td>\n",
       "      <td>0.014724</td>\n",
       "      <td>2.69</td>\n",
       "      <td>0</td>\n",
       "    </tr>\n",
       "    <tr>\n",
       "      <th>2</th>\n",
       "      <td>1.0</td>\n",
       "      <td>-1.358354</td>\n",
       "      <td>-1.340163</td>\n",
       "      <td>1.773209</td>\n",
       "      <td>0.379780</td>\n",
       "      <td>-0.503198</td>\n",
       "      <td>1.800499</td>\n",
       "      <td>0.791461</td>\n",
       "      <td>0.247676</td>\n",
       "      <td>-1.514654</td>\n",
       "      <td>...</td>\n",
       "      <td>0.247998</td>\n",
       "      <td>0.771679</td>\n",
       "      <td>0.909412</td>\n",
       "      <td>-0.689281</td>\n",
       "      <td>-0.327642</td>\n",
       "      <td>-0.139097</td>\n",
       "      <td>-0.055353</td>\n",
       "      <td>-0.059752</td>\n",
       "      <td>378.66</td>\n",
       "      <td>0</td>\n",
       "    </tr>\n",
       "    <tr>\n",
       "      <th>3</th>\n",
       "      <td>1.0</td>\n",
       "      <td>-0.966272</td>\n",
       "      <td>-0.185226</td>\n",
       "      <td>1.792993</td>\n",
       "      <td>-0.863291</td>\n",
       "      <td>-0.010309</td>\n",
       "      <td>1.247203</td>\n",
       "      <td>0.237609</td>\n",
       "      <td>0.377436</td>\n",
       "      <td>-1.387024</td>\n",
       "      <td>...</td>\n",
       "      <td>-0.108300</td>\n",
       "      <td>0.005274</td>\n",
       "      <td>-0.190321</td>\n",
       "      <td>-1.175575</td>\n",
       "      <td>0.647376</td>\n",
       "      <td>-0.221929</td>\n",
       "      <td>0.062723</td>\n",
       "      <td>0.061458</td>\n",
       "      <td>123.50</td>\n",
       "      <td>0</td>\n",
       "    </tr>\n",
       "    <tr>\n",
       "      <th>4</th>\n",
       "      <td>2.0</td>\n",
       "      <td>-1.158233</td>\n",
       "      <td>0.877737</td>\n",
       "      <td>1.548718</td>\n",
       "      <td>0.403034</td>\n",
       "      <td>-0.407193</td>\n",
       "      <td>0.095921</td>\n",
       "      <td>0.592941</td>\n",
       "      <td>-0.270533</td>\n",
       "      <td>0.817739</td>\n",
       "      <td>...</td>\n",
       "      <td>-0.009431</td>\n",
       "      <td>0.798278</td>\n",
       "      <td>-0.137458</td>\n",
       "      <td>0.141267</td>\n",
       "      <td>-0.206010</td>\n",
       "      <td>0.502292</td>\n",
       "      <td>0.219422</td>\n",
       "      <td>0.215153</td>\n",
       "      <td>69.99</td>\n",
       "      <td>0</td>\n",
       "    </tr>\n",
       "  </tbody>\n",
       "</table>\n",
       "<p>5 rows × 31 columns</p>\n",
       "</div>"
      ],
      "text/plain": [
       "   Time        V1        V2        V3        V4        V5        V6        V7  \\\n",
       "0   0.0 -1.359807 -0.072781  2.536347  1.378155 -0.338321  0.462388  0.239599   \n",
       "1   0.0  1.191857  0.266151  0.166480  0.448154  0.060018 -0.082361 -0.078803   \n",
       "2   1.0 -1.358354 -1.340163  1.773209  0.379780 -0.503198  1.800499  0.791461   \n",
       "3   1.0 -0.966272 -0.185226  1.792993 -0.863291 -0.010309  1.247203  0.237609   \n",
       "4   2.0 -1.158233  0.877737  1.548718  0.403034 -0.407193  0.095921  0.592941   \n",
       "\n",
       "         V8        V9  ...       V21       V22       V23       V24       V25  \\\n",
       "0  0.098698  0.363787  ... -0.018307  0.277838 -0.110474  0.066928  0.128539   \n",
       "1  0.085102 -0.255425  ... -0.225775 -0.638672  0.101288 -0.339846  0.167170   \n",
       "2  0.247676 -1.514654  ...  0.247998  0.771679  0.909412 -0.689281 -0.327642   \n",
       "3  0.377436 -1.387024  ... -0.108300  0.005274 -0.190321 -1.175575  0.647376   \n",
       "4 -0.270533  0.817739  ... -0.009431  0.798278 -0.137458  0.141267 -0.206010   \n",
       "\n",
       "        V26       V27       V28  Amount  Class  \n",
       "0 -0.189115  0.133558 -0.021053  149.62      0  \n",
       "1  0.125895 -0.008983  0.014724    2.69      0  \n",
       "2 -0.139097 -0.055353 -0.059752  378.66      0  \n",
       "3 -0.221929  0.062723  0.061458  123.50      0  \n",
       "4  0.502292  0.219422  0.215153   69.99      0  \n",
       "\n",
       "[5 rows x 31 columns]"
      ]
     },
     "execution_count": 3,
     "metadata": {},
     "output_type": "execute_result"
    }
   ],
   "source": [
    "df.head()"
   ]
  },
  {
   "cell_type": "code",
   "execution_count": 4,
   "id": "d8687072",
   "metadata": {},
   "outputs": [],
   "source": [
    "# Select data\n",
    "X = df.drop(columns='Class', axis=1)\n",
    "y= df.Class.values"
   ]
  },
  {
   "cell_type": "code",
   "execution_count": 5,
   "id": "2f5462da",
   "metadata": {
    "ExecuteTime": {
     "end_time": "2021-04-19T10:08:38.156709Z",
     "start_time": "2021-04-19T10:08:38.145874Z"
    }
   },
   "outputs": [
    {
     "data": {
      "text/plain": [
       "0    284315\n",
       "1       492\n",
       "dtype: int64"
      ]
     },
     "execution_count": 5,
     "metadata": {},
     "output_type": "execute_result"
    }
   ],
   "source": [
    "# Let's check class balance\n",
    "pd.Series(y).value_counts()"
   ]
  },
  {
   "cell_type": "markdown",
   "id": "dc611794",
   "metadata": {},
   "source": [
    "☝️ in this `fraud detection` challenge, the classes are extremely imbalanced:\n",
    "* 99.8 % of normal transactions\n",
    "* 0.2 % of fraudulent transactions\n",
    "\n",
    "We won't be able to detect frauds unless we apply some serious rebalancing strategies!\n",
    "\n",
    "❓ **Question** ❓\n",
    "1. **First**, I create three separate Train/Val/Test splits from your dataset. It is extremely important to keep validation and testing sets **not rebalanced** so as to evaluate your model in true conditions without data leak. Keep your test set for the very last cell of this notebook only.\n",
    "\n",
    "&nbsp;\n",
    "2. **Second**, I rebalance you training set (and only this one). You have many choices:\n",
    "\n",
    "- Simply oversample the minority class randomly using plain numpy functions.\n",
    "- Or use <a href=\"https://machinelearningmastery.com/smote-oversampling-for-imbalanced-classification/\">Synthetic Minority Oversampling Technique</a> to generate new datapoints by weighting the existing ones\n",
    "- In addition, try also <a href=\"https://machinelearningmastery.com/random-oversampling-and-undersampling-for-imbalanced-classification/\">RandomUnderSampler</a> to downsample a little bit the majority class"
   ]
  },
  {
   "cell_type": "code",
   "execution_count": 6,
   "id": "44628a97",
   "metadata": {
    "ExecuteTime": {
     "end_time": "2021-04-19T10:08:38.160660Z",
     "start_time": "2021-04-19T10:08:38.158321Z"
    }
   },
   "outputs": [],
   "source": [
    "X_train, X_test, y_train, y_test = train_test_split(X, y, test_size=0.3)"
   ]
  },
  {
   "cell_type": "code",
   "execution_count": 7,
   "id": "1db14364",
   "metadata": {},
   "outputs": [],
   "source": [
    "X_train, X_val, y_train, y_val = train_test_split(X_train, y_train, test_size=0.3)"
   ]
  },
  {
   "cell_type": "code",
   "execution_count": 8,
   "id": "8506dff0",
   "metadata": {},
   "outputs": [
    {
     "name": "stdout",
     "output_type": "stream",
     "text": [
      "X_train.shape = (139554, 30)\n",
      "y_train.shape = (139554,)\n",
      "X_val.shape = (59810, 30)\n",
      "y_val.shape = (59810,)\n",
      "X_test.shape = (85443, 30)\n",
      "y_test.shape = (85443,)\n"
     ]
    }
   ],
   "source": [
    "print(f\"X_train.shape = {X_train.shape}\")\n",
    "print(f\"y_train.shape = {y_train.shape}\")\n",
    "print(f\"X_val.shape = {X_val.shape}\")\n",
    "print(f\"y_val.shape = {y_val.shape}\")\n",
    "print(f\"X_test.shape = {X_test.shape}\")\n",
    "print(f\"y_test.shape = {y_test.shape}\")"
   ]
  },
  {
   "cell_type": "code",
   "execution_count": 9,
   "id": "96c33cfc",
   "metadata": {},
   "outputs": [
    {
     "name": "stdout",
     "output_type": "stream",
     "text": [
      "246\n",
      "94\n",
      "152\n",
      "----------------------------------------------------------------------------------------------------\n",
      "There are 246 fraudulent transactions in the train set\n",
      "There are 94 fraudulent transactions in the val set\n",
      "There are 152 fraudulent transactions in the test set\n"
     ]
    }
   ],
   "source": [
    "# How many \"fraud\" samples do I have in each split?\n",
    "\n",
    "print(sum(y_train == 1))\n",
    "print(sum(y_val == 1))\n",
    "print(np.sum(y_test[y_test == 1]))\n",
    "\n",
    "print(\"-\"*100)\n",
    "\n",
    "print(f\"There are {pd.Series(y_train).value_counts()[1]} fraudulent transactions in the train set\")\n",
    "print(f\"There are {pd.Series(y_val).value_counts()[1]} fraudulent transactions in the val set\")\n",
    "print(f\"There are {pd.Series(y_test).value_counts()[1]} fraudulent transactions in the test set\")"
   ]
  },
  {
   "cell_type": "code",
   "execution_count": 10,
   "id": "89223c74",
   "metadata": {},
   "outputs": [],
   "source": [
    "# Sampling strategies\n",
    "over = SMOTE(sampling_strategy=0.1)\n",
    "under = RandomUnderSampler(sampling_strategy=0.33)"
   ]
  },
  {
   "cell_type": "code",
   "execution_count": 11,
   "id": "9c453cb5",
   "metadata": {},
   "outputs": [
    {
     "data": {
      "text/html": [
       "<style>#sk-b5d9800c-7b46-459b-9d7d-9281e799ca78 {color: black;background-color: white;}#sk-b5d9800c-7b46-459b-9d7d-9281e799ca78 pre{padding: 0;}#sk-b5d9800c-7b46-459b-9d7d-9281e799ca78 div.sk-toggleable {background-color: white;}#sk-b5d9800c-7b46-459b-9d7d-9281e799ca78 label.sk-toggleable__label {cursor: pointer;display: block;width: 100%;margin-bottom: 0;padding: 0.3em;box-sizing: border-box;text-align: center;}#sk-b5d9800c-7b46-459b-9d7d-9281e799ca78 div.sk-toggleable__content {max-height: 0;max-width: 0;overflow: hidden;text-align: left;background-color: #f0f8ff;}#sk-b5d9800c-7b46-459b-9d7d-9281e799ca78 div.sk-toggleable__content pre {margin: 0.2em;color: black;border-radius: 0.25em;background-color: #f0f8ff;}#sk-b5d9800c-7b46-459b-9d7d-9281e799ca78 input.sk-toggleable__control:checked~div.sk-toggleable__content {max-height: 200px;max-width: 100%;overflow: auto;}#sk-b5d9800c-7b46-459b-9d7d-9281e799ca78 div.sk-estimator input.sk-toggleable__control:checked~label.sk-toggleable__label {background-color: #d4ebff;}#sk-b5d9800c-7b46-459b-9d7d-9281e799ca78 div.sk-label input.sk-toggleable__control:checked~label.sk-toggleable__label {background-color: #d4ebff;}#sk-b5d9800c-7b46-459b-9d7d-9281e799ca78 input.sk-hidden--visually {border: 0;clip: rect(1px 1px 1px 1px);clip: rect(1px, 1px, 1px, 1px);height: 1px;margin: -1px;overflow: hidden;padding: 0;position: absolute;width: 1px;}#sk-b5d9800c-7b46-459b-9d7d-9281e799ca78 div.sk-estimator {font-family: monospace;background-color: #f0f8ff;border: 1px dotted black;border-radius: 0.25em;box-sizing: border-box;margin-bottom: 0.5em;}#sk-b5d9800c-7b46-459b-9d7d-9281e799ca78 div.sk-estimator:hover {background-color: #d4ebff;}#sk-b5d9800c-7b46-459b-9d7d-9281e799ca78 div.sk-parallel-item::after {content: \"\";width: 100%;border-bottom: 1px solid gray;flex-grow: 1;}#sk-b5d9800c-7b46-459b-9d7d-9281e799ca78 div.sk-label:hover label.sk-toggleable__label {background-color: #d4ebff;}#sk-b5d9800c-7b46-459b-9d7d-9281e799ca78 div.sk-serial::before {content: \"\";position: absolute;border-left: 1px solid gray;box-sizing: border-box;top: 2em;bottom: 0;left: 50%;}#sk-b5d9800c-7b46-459b-9d7d-9281e799ca78 div.sk-serial {display: flex;flex-direction: column;align-items: center;background-color: white;padding-right: 0.2em;padding-left: 0.2em;}#sk-b5d9800c-7b46-459b-9d7d-9281e799ca78 div.sk-item {z-index: 1;}#sk-b5d9800c-7b46-459b-9d7d-9281e799ca78 div.sk-parallel {display: flex;align-items: stretch;justify-content: center;background-color: white;}#sk-b5d9800c-7b46-459b-9d7d-9281e799ca78 div.sk-parallel::before {content: \"\";position: absolute;border-left: 1px solid gray;box-sizing: border-box;top: 2em;bottom: 0;left: 50%;}#sk-b5d9800c-7b46-459b-9d7d-9281e799ca78 div.sk-parallel-item {display: flex;flex-direction: column;position: relative;background-color: white;}#sk-b5d9800c-7b46-459b-9d7d-9281e799ca78 div.sk-parallel-item:first-child::after {align-self: flex-end;width: 50%;}#sk-b5d9800c-7b46-459b-9d7d-9281e799ca78 div.sk-parallel-item:last-child::after {align-self: flex-start;width: 50%;}#sk-b5d9800c-7b46-459b-9d7d-9281e799ca78 div.sk-parallel-item:only-child::after {width: 0;}#sk-b5d9800c-7b46-459b-9d7d-9281e799ca78 div.sk-dashed-wrapped {border: 1px dashed gray;margin: 0 0.4em 0.5em 0.4em;box-sizing: border-box;padding-bottom: 0.4em;background-color: white;position: relative;}#sk-b5d9800c-7b46-459b-9d7d-9281e799ca78 div.sk-label label {font-family: monospace;font-weight: bold;background-color: white;display: inline-block;line-height: 1.2em;}#sk-b5d9800c-7b46-459b-9d7d-9281e799ca78 div.sk-label-container {position: relative;z-index: 2;text-align: center;}#sk-b5d9800c-7b46-459b-9d7d-9281e799ca78 div.sk-container {display: inline-block;position: relative;}</style><div id=\"sk-b5d9800c-7b46-459b-9d7d-9281e799ca78\" class\"sk-top-container\"><div class=\"sk-container\"><div class=\"sk-item sk-dashed-wrapped\"><div class=\"sk-label-container\"><div class=\"sk-label sk-toggleable\"><input class=\"sk-toggleable__control sk-hidden--visually\" id=\"e5fb0030-e60b-4159-abd0-68dcb15e931d\" type=\"checkbox\" ><label class=\"sk-toggleable__label\" for=\"e5fb0030-e60b-4159-abd0-68dcb15e931d\">Pipeline</label><div class=\"sk-toggleable__content\"><pre>Pipeline(steps=[('0', SMOTE(sampling_strategy=0.1)),\n",
       "                ('u', RandomUnderSampler(sampling_strategy=0.33))])</pre></div></div></div><div class=\"sk-serial\"><div class=\"sk-item\"><div class=\"sk-estimator sk-toggleable\"><input class=\"sk-toggleable__control sk-hidden--visually\" id=\"51c13233-5187-4217-93a9-97c2072b59bd\" type=\"checkbox\" ><label class=\"sk-toggleable__label\" for=\"51c13233-5187-4217-93a9-97c2072b59bd\">SMOTE</label><div class=\"sk-toggleable__content\"><pre>SMOTE(sampling_strategy=0.1)</pre></div></div></div><div class=\"sk-item\"><div class=\"sk-estimator sk-toggleable\"><input class=\"sk-toggleable__control sk-hidden--visually\" id=\"02a36654-163a-4be6-a18e-44931756bc19\" type=\"checkbox\" ><label class=\"sk-toggleable__label\" for=\"02a36654-163a-4be6-a18e-44931756bc19\">RandomUnderSampler</label><div class=\"sk-toggleable__content\"><pre>RandomUnderSampler(sampling_strategy=0.33)</pre></div></div></div></div></div></div></div>"
      ],
      "text/plain": [
       "Pipeline(steps=[('0', SMOTE(sampling_strategy=0.1)),\n",
       "                ('u', RandomUnderSampler(sampling_strategy=0.33))])"
      ]
     },
     "execution_count": 11,
     "metadata": {},
     "output_type": "execute_result"
    }
   ],
   "source": [
    "from sklearn import set_config;  set_config(display = 'diagram')\n",
    "\n",
    "# Pipelining the two strategies\n",
    "steps = [(\"0\", over), ('u', under)]\n",
    "pipeline = Pipeline(steps=steps)\n",
    "pipeline"
   ]
  },
  {
   "cell_type": "code",
   "execution_count": 12,
   "id": "a798780d",
   "metadata": {},
   "outputs": [
    {
     "name": "stdout",
     "output_type": "stream",
     "text": [
      "X_train_resampled.shape = (56142, 30)\n",
      "y_train_resampled.shape = (56142,)\n"
     ]
    }
   ],
   "source": [
    "# Rebalance the dataset\n",
    "X_train_resampled, y_train_resampled = pipeline.fit_resample(X_train, y_train)\n",
    "\n",
    "print(f\"X_train_resampled.shape = {X_train_resampled.shape}\")\n",
    "print(f\"y_train_resampled.shape = {y_train_resampled.shape}\")"
   ]
  },
  {
   "cell_type": "code",
   "execution_count": 13,
   "id": "ba87d18e",
   "metadata": {},
   "outputs": [],
   "source": [
    "# Reshuffle the resampled data just to be sure\n",
    "stacked_resampled_data = np.hstack([X_train_resampled, y_train_resampled.reshape(-1,1)])\n",
    "np.random.shuffle(stacked_resampled_data)\n",
    "\n",
    "X_train_resampled = stacked_resampled_data[:, :30]\n",
    "y_train_resampled = stacked_resampled_data[:, -1]"
   ]
  },
  {
   "cell_type": "code",
   "execution_count": 14,
   "id": "77a1ef3f",
   "metadata": {},
   "outputs": [
    {
     "data": {
      "image/png": "[encoded data removed]",
      "text/plain": [
       "<Figure size 1296x288 with 2 Axes>"
      ]
     },
     "metadata": {
      "needs_background": "light"
     },
     "output_type": "display_data"
    }
   ],
   "source": [
    "# plotting\n",
    "warnings.filterwarnings('ignore')\n",
    "fig, ax = plt.subplots(1, 2, figsize=(18, 4))\n",
    "\n",
    "''' Before rebanlancing classes'''\n",
    "sns.countplot(y_train, ax=ax[0], color='b')\n",
    "ax[0].set_title(\"Y_train before balancing\", fontsize=14)\n",
    "\n",
    "''' After rebalancing classes'''\n",
    "sns.countplot(y_train_resampled, ax=ax[1], color='g')\n",
    "ax[1].set_title(\"Y_train after balancing\");"
   ]
  },
  {
   "cell_type": "code",
   "execution_count": 15,
   "id": "2a688907",
   "metadata": {},
   "outputs": [
    {
     "name": "stdout",
     "output_type": "stream",
     "text": [
      "(56142, 30)\n",
      "(59810, 30)\n"
     ]
    }
   ],
   "source": [
    "print(X_train_resampled.shape)\n",
    "print(X_val.shape)"
   ]
  },
  {
   "cell_type": "markdown",
   "id": "subsequent-blues",
   "metadata": {},
   "source": [
    "## 2. Neural Network iterations\n",
    "\n",
    "Now that I have rebalanced my classes, I will try to fit a neural network to optimize the test score. recommended hints:\n",
    "\n",
    "- Normalize your inputs!\n",
    "    - Use preferably a [`Normalization`](https://www.tensorflow.org/api_docs/python/tf/keras/layers/experimental/preprocessing/Normalization) layer inside the model to \"pipeline\" your preprocessing within your model. \n",
    "    - Or use sklearn's [`StandardScaler`](https://scikit-learn.org/stable/modules/generated/sklearn.preprocessing.StandardScaler.html) outside of your model, applied your `X_train` and `X_val` and `X_test`.\n",
    "- Make model overfit, then, regularize using\n",
    "    - Early Stopping criteria \n",
    "    - [`Dropout`](https://www.tensorflow.org/api_docs/python/tf/keras/layers/Dropout) layers\n",
    "    - or [`regularizers`](https://www.tensorflow.org/api_docs/python/tf/keras/regularizers) layers\n",
    "- 🚨 Think carefully about the metric you want to track and the loss you want to use ?\n"
   ]
  },
  {
   "cell_type": "code",
   "execution_count": 16,
   "id": "4975e0dc",
   "metadata": {},
   "outputs": [
    {
     "name": "stderr",
     "output_type": "stream",
     "text": [
      "2022-02-24 20:39:39.070012: W tensorflow/stream_executor/platform/default/dso_loader.cc:64] Could not load dynamic library 'libcuda.so.1'; dlerror: libcuda.so.1: cannot open shared object file: No such file or directory\n",
      "2022-02-24 20:39:39.070074: W tensorflow/stream_executor/cuda/cuda_driver.cc:326] failed call to cuInit: UNKNOWN ERROR (303)\n",
      "2022-02-24 20:39:39.070094: I tensorflow/stream_executor/cuda/cuda_diagnostics.cc:156] kernel driver does not appear to be running on this host (DESKTOP-BM2AJIC): /proc/driver/nvidia/version does not exist\n",
      "2022-02-24 20:39:39.070303: I tensorflow/core/platform/cpu_feature_guard.cc:142] This TensorFlow binary is optimized with oneAPI Deep Neural Network Library (oneDNN) to use the following CPU instructions in performance-critical operations:  AVX2 FMA\n",
      "To enable them in other operations, rebuild TensorFlow with the appropriate compiler flags.\n"
     ]
    }
   ],
   "source": [
    "metrics = [\n",
    "    keras.metrics.Recall(),\n",
    "    keras.metrics.Precision(),\n",
    "    keras.metrics.AUC(name='prc', curve='PR')\n",
    "]"
   ]
  },
  {
   "cell_type": "code",
   "execution_count": 17,
   "id": "98cc692d",
   "metadata": {
    "ExecuteTime": {
     "end_time": "2021-04-19T10:08:39.112654Z",
     "start_time": "2021-04-19T10:08:39.110882Z"
    }
   },
   "outputs": [],
   "source": [
    "# sc = StandardScaler()\n",
    "def init_model():\n",
    "    input_shape = X_train_resampled[1:]\n",
    "    normalizer = Normalization()\n",
    "    normalizer.adapt(input_shape)\n",
    "    \n",
    "    model = Sequential()\n",
    "    model.add(normalizer)\n",
    "    model.add(layers.Dense(32, activation=\"relu\"))\n",
    "    model.add(layers.Dropout(0.3))\n",
    "    \n",
    "    model.add(layers.Dense(16, activation='relu'))\n",
    "    model.add(layers.Dropout(0.3))\n",
    "    \n",
    "    model.add(layers.Dense(8, activation='relu'))\n",
    "    model.add(layers.Dropout(0.3))\n",
    "    \n",
    "    model.add(layers.Dense(1, activation='sigmoid'))\n",
    "    \n",
    "    \n",
    "    # model compilation\n",
    "    optimizer = Adam(lr=0.0001)\n",
    "    model.compile(loss=\"binary_crossentropy\",\n",
    "                  optimizer=optimizer,\n",
    "                 metrics=metrics)\n",
    "    \n",
    "    return model"
   ]
  },
  {
   "cell_type": "markdown",
   "id": "d6614999",
   "metadata": {},
   "source": [
    "### Regularized model"
   ]
  },
  {
   "cell_type": "code",
   "execution_count": 18,
   "id": "648b1be6",
   "metadata": {},
   "outputs": [
    {
     "name": "stderr",
     "output_type": "stream",
     "text": [
      "2022-02-24 20:39:39.559258: I tensorflow/compiler/mlir/mlir_graph_optimization_pass.cc:176] None of the MLIR Optimization Passes are enabled (registered 2)\n",
      "2022-02-24 20:39:39.559718: I tensorflow/core/platform/profile_utils/cpu_utils.cc:114] CPU Frequency: 2394455000 Hz\n"
     ]
    },
    {
     "name": "stdout",
     "output_type": "stream",
     "text": [
      "Model: \"sequential\"\n",
      "_________________________________________________________________\n",
      "Layer (type)                 Output Shape              Param #   \n",
      "=================================================================\n",
      "normalization (Normalization (None, 30)                61        \n",
      "_________________________________________________________________\n",
      "dense (Dense)                (None, 32)                992       \n",
      "_________________________________________________________________\n",
      "dropout (Dropout)            (None, 32)                0         \n",
      "_________________________________________________________________\n",
      "dense_1 (Dense)              (None, 16)                528       \n",
      "_________________________________________________________________\n",
      "dropout_1 (Dropout)          (None, 16)                0         \n",
      "_________________________________________________________________\n",
      "dense_2 (Dense)              (None, 8)                 136       \n",
      "_________________________________________________________________\n",
      "dropout_2 (Dropout)          (None, 8)                 0         \n",
      "_________________________________________________________________\n",
      "dense_3 (Dense)              (None, 1)                 9         \n",
      "=================================================================\n",
      "Total params: 1,726\n",
      "Trainable params: 1,665\n",
      "Non-trainable params: 61\n",
      "_________________________________________________________________\n"
     ]
    }
   ],
   "source": [
    "model = init_model()\n",
    "model.summary()"
   ]
  },
  {
   "cell_type": "code",
   "execution_count": 19,
   "id": "e187e371",
   "metadata": {},
   "outputs": [
    {
     "name": "stdout",
     "output_type": "stream",
     "text": [
      "Epoch 1/100\n",
      "878/878 [==============================] - 5s 5ms/step - loss: 0.5102 - recall: 0.5491 - precision: 0.5916 - prc: 0.6531 - val_loss: 0.1683 - val_recall: 0.7553 - val_precision: 0.4931 - val_prc: 0.6292\n",
      "Epoch 2/100\n",
      "878/878 [==============================] - 4s 4ms/step - loss: 0.2478 - recall: 0.7312 - precision: 0.9547 - prc: 0.9110 - val_loss: 0.0346 - val_recall: 0.7979 - val_precision: 0.5172 - val_prc: 0.6465\n",
      "Epoch 3/100\n",
      "878/878 [==============================] - 4s 4ms/step - loss: 0.1671 - recall: 0.8319 - precision: 0.9725 - prc: 0.9510 - val_loss: 0.0203 - val_recall: 0.8511 - val_precision: 0.4545 - val_prc: 0.6978\n",
      "Epoch 4/100\n",
      "878/878 [==============================] - 4s 4ms/step - loss: 0.1368 - recall: 0.8672 - precision: 0.9744 - prc: 0.9620 - val_loss: 0.0194 - val_recall: 0.8723 - val_precision: 0.3216 - val_prc: 0.7079\n",
      "Epoch 5/100\n",
      "878/878 [==============================] - 4s 4ms/step - loss: 0.1212 - recall: 0.8810 - precision: 0.9769 - prc: 0.9689 - val_loss: 0.0200 - val_recall: 0.8830 - val_precision: 0.2804 - val_prc: 0.7035\n",
      "Epoch 6/100\n",
      "878/878 [==============================] - 4s 5ms/step - loss: 0.1097 - recall: 0.8899 - precision: 0.9748 - prc: 0.9730 - val_loss: 0.0186 - val_recall: 0.8830 - val_precision: 0.2767 - val_prc: 0.7162\n",
      "Epoch 7/100\n",
      "878/878 [==============================] - 4s 5ms/step - loss: 0.1013 - recall: 0.8982 - precision: 0.9782 - prc: 0.9754 - val_loss: 0.0188 - val_recall: 0.8830 - val_precision: 0.2677 - val_prc: 0.7029\n",
      "Epoch 8/100\n",
      "878/878 [==============================] - 4s 5ms/step - loss: 0.0964 - recall: 0.8976 - precision: 0.9778 - prc: 0.9781 - val_loss: 0.0206 - val_recall: 0.8830 - val_precision: 0.2399 - val_prc: 0.6965\n",
      "Epoch 9/100\n",
      "878/878 [==============================] - 4s 4ms/step - loss: 0.0910 - recall: 0.9073 - precision: 0.9761 - prc: 0.9801 - val_loss: 0.0198 - val_recall: 0.8830 - val_precision: 0.2554 - val_prc: 0.6974\n",
      "Epoch 10/100\n",
      "878/878 [==============================] - 4s 4ms/step - loss: 0.0863 - recall: 0.9072 - precision: 0.9802 - prc: 0.9820 - val_loss: 0.0190 - val_recall: 0.8830 - val_precision: 0.2730 - val_prc: 0.6985\n",
      "Epoch 11/100\n",
      "878/878 [==============================] - 4s 5ms/step - loss: 0.0828 - recall: 0.9108 - precision: 0.9786 - prc: 0.9836 - val_loss: 0.0200 - val_recall: 0.8830 - val_precision: 0.2594 - val_prc: 0.7007\n"
     ]
    }
   ],
   "source": [
    "es = EarlyStopping(\n",
    "    patience=10,\n",
    "    monitor='val_recall', # We really want to detect fraudulent transactions!\n",
    "    restore_best_weights=True)\n",
    "\n",
    "history = model.fit(X_train_resampled, y_train_resampled,\n",
    "                   validation_data=(X_val, y_val),\n",
    "                   epochs=100,\n",
    "                   batch_size=64, # Large enough to get a decent chance of containing fraudulent transactions\n",
    "                   callbacks=[es], shuffle=True)"
   ]
  },
  {
   "cell_type": "code",
   "execution_count": 20,
   "id": "87972b71",
   "metadata": {},
   "outputs": [],
   "source": [
    "def plot_loss_precision_recall_curve(history):\n",
    "    fig, ax = plt.subplots(1,3, figsize=(20,5))\n",
    "    \n",
    "    # ---- Loss\n",
    "    \n",
    "    ax[0].plot(history.history['loss'])\n",
    "    ax[0].plot(history.history['val_loss'])\n",
    "    ax[0].set_title('Model loss', fontsize=18)\n",
    "    ax[0].set_xlabel('Epoch', fontsize=14)\n",
    "    ax[0].set_ylabel('Loss', fontsize=14)\n",
    "    ax[0].legend(['Train', 'Val'], loc='upper right')\n",
    "    ax[0].grid(axis='x', linewidth=0.5)\n",
    "    ax[0].grid(axis='y', linewidth=0.5)\n",
    "    \n",
    "    # ---- RECALL\n",
    "    \n",
    "    ax[1].plot(history.history['recall'])\n",
    "    ax[1].plot(history.history['val_recall'])\n",
    "    ax[1].set_title('Model recall', fontsize = 18)\n",
    "    ax[1].set_xlabel('Epoch', fontsize = 14)\n",
    "    ax[1].set_ylabel('Recall', fontsize = 14)\n",
    "    ax[1].legend(['Train', 'Val'], loc='lower right') \n",
    "    ax[1].grid(axis=\"x\",linewidth=0.5)\n",
    "    ax[1].grid(axis=\"y\",linewidth=0.5)\n",
    "\n",
    "    \n",
    "    # ---- PRECISION\n",
    "    \n",
    "    ax[2].plot(history.history['precision'])\n",
    "    ax[2].plot(history.history['val_precision'])\n",
    "    ax[2].set_title('Model precision', fontsize = 18)\n",
    "    ax[2].set_xlabel('Epoch', fontsize = 14)\n",
    "    ax[2].set_ylabel('Precision', fontsize = 14)\n",
    "    ax[2].legend(['Train', 'Val'], loc='lower right')  \n",
    "    ax[2].grid(axis=\"x\",linewidth=0.5)\n",
    "    ax[2].grid(axis=\"y\",linewidth=0.5) \n",
    "    \n",
    "    plt.show()"
   ]
  },
  {
   "cell_type": "code",
   "execution_count": 21,
   "id": "56d0cbf0",
   "metadata": {},
   "outputs": [
    {
     "data": {
      "image/png": "[encoded data removed]",
      "text/plain": [
       "<Figure size 1440x360 with 3 Axes>"
      ]
     },
     "metadata": {
      "needs_background": "light"
     },
     "output_type": "display_data"
    }
   ],
   "source": [
    "plot_loss_precision_recall_curve(history)"
   ]
  },
  {
   "cell_type": "markdown",
   "id": "particular-thomas",
   "metadata": {},
   "source": [
    "## 3. Score your model on unseen Test set\n",
    "\n",
    "❓ **Question** ❓: Compute your confusion matrix and classification report on the test set"
   ]
  },
  {
   "cell_type": "code",
   "execution_count": 22,
   "id": "a1710c2b",
   "metadata": {},
   "outputs": [
    {
     "data": {
      "text/plain": [
       "{'loss': 0.16902242600917816,\n",
       " 'recall': 0.75,\n",
       " 'precision': 0.5699999928474426,\n",
       " 'prc': 0.5868840217590332}"
      ]
     },
     "execution_count": 22,
     "metadata": {},
     "output_type": "execute_result"
    }
   ],
   "source": [
    "model.evaluate(X_test, y_test, verbose=0, return_dict=True)"
   ]
  },
  {
   "cell_type": "code",
   "execution_count": 23,
   "id": "54aabdda",
   "metadata": {},
   "outputs": [],
   "source": [
    "y_pred_proba = model.predict(X_test)"
   ]
  },
  {
   "cell_type": "code",
   "execution_count": 24,
   "id": "8a854dc1",
   "metadata": {},
   "outputs": [],
   "source": [
    "threshold = 0.5 # 50%\n",
    "y_pred_binary = np.where(y_pred_proba > threshold, 1, 0)"
   ]
  },
  {
   "cell_type": "markdown",
   "id": "10da8391",
   "metadata": {},
   "source": [
    "### Confusion Matrix"
   ]
  },
  {
   "cell_type": "code",
   "execution_count": 25,
   "id": "bc01a0e8",
   "metadata": {},
   "outputs": [
    {
     "data": {
      "text/plain": [
       "array([[85205,    86],\n",
       "       [   38,   114]])"
      ]
     },
     "execution_count": 25,
     "metadata": {},
     "output_type": "execute_result"
    }
   ],
   "source": [
    "cm = confusion_matrix(y_test, y_pred_binary)\n",
    "cm"
   ]
  },
  {
   "cell_type": "code",
   "execution_count": 26,
   "id": "2a3e37ea",
   "metadata": {},
   "outputs": [
    {
     "data": {
      "text/plain": [
       "Text(0.5, 24.0, 'Predicted label')"
      ]
     },
     "execution_count": 26,
     "metadata": {},
     "output_type": "execute_result"
    },
    {
     "data": {
      "image/png": "[encoded data removed]",
      "text/plain": [
       "<Figure size 360x360 with 2 Axes>"
      ]
     },
     "metadata": {
      "needs_background": "light"
     },
     "output_type": "display_data"
    }
   ],
   "source": [
    "plt.figure(figsize=(5,5))\n",
    "sns.heatmap(cm, annot=True, fmt=\"d\")\n",
    "plt.title('Confusion matrix')\n",
    "plt.ylabel('Actual label')\n",
    "plt.xlabel('Predicted label')"
   ]
  },
  {
   "cell_type": "code",
   "execution_count": 27,
   "id": "7a3669aa",
   "metadata": {},
   "outputs": [],
   "source": [
    "from sklearn.metrics import precision_recall_curve\n",
    "\n",
    "def plot_prc(name, labels, predictions, **kwargs):\n",
    "    precision, recall, _ = precision_recall_curve(labels, predictions)\n",
    "    plt.plot(precision, recall, label=name, linewidth=2, **kwargs)\n",
    "    plt.xlabel('Recall')\n",
    "    plt.ylabel('Precision')\n",
    "    plt.grid(True)\n",
    "    ax = plt.gca()\n",
    "    ax.set_aspect('equal')"
   ]
  },
  {
   "cell_type": "code",
   "execution_count": 28,
   "id": "d06d0cc0",
   "metadata": {},
   "outputs": [
    {
     "data": {
      "text/plain": [
       "<matplotlib.legend.Legend at 0x7f175420b1f0>"
      ]
     },
     "execution_count": 28,
     "metadata": {},
     "output_type": "execute_result"
    },
    {
     "data": {
      "image/png": "[encoded data removed]",
      "text/plain": [
       "<Figure size 432x288 with 1 Axes>"
      ]
     },
     "metadata": {
      "needs_background": "light"
     },
     "output_type": "display_data"
    }
   ],
   "source": [
    "plot_prc(\"Test\", y_test, y_pred_proba, linestyle='--')\n",
    "plt.legend(loc='lower right')"
   ]
  },
  {
   "cell_type": "markdown",
   "id": "c6ae64bb",
   "metadata": {},
   "source": [
    "Stored below are the real test performance on a (`X_test`, `y_test`) representative sample of the original unbalance dataset"
   ]
  },
  {
   "cell_type": "code",
   "execution_count": 29,
   "id": "ff087118",
   "metadata": {
    "ExecuteTime": {
     "end_time": "2021-04-19T10:08:57.085268Z",
     "start_time": "2021-04-19T10:08:57.082369Z"
    }
   },
   "outputs": [],
   "source": [
    "precision = 0.37\n",
    "recall = 0.82"
   ]
  },
  {
   "cell_type": "markdown",
   "id": "3db1e216",
   "metadata": {},
   "source": [
    "## 🏁 Optional : Read Google's solution for this challenge\n",
    "\n",
    "To conclude, here is Google's own solution direcly [on Colab here](https://colab.research.google.com/github/tensorflow/docs/blob/master/site/en/tutorials/structured_data/imbalanced_data.ipynb). You will discover interesting techniques and best practices\n"
   ]
  }
 ],
 "metadata": {
  "kernelspec": {
   "display_name": "Python 3 (ipykernel)",
   "language": "python",
   "name": "python3"
  },
  "language_info": {
   "codemirror_mode": {
    "name": "ipython",
    "version": 3
   },
   "file_extension": ".py",
   "mimetype": "text/x-python",
   "name": "python",
   "nbconvert_exporter": "python",
   "pygments_lexer": "ipython3",
   "version": "3.8.6"
  },
  "toc": {
   "base_numbering": 1,
   "nav_menu": {},
   "number_sections": false,
   "sideBar": true,
   "skip_h1_title": true,
   "title_cell": "Table of Contents",
   "title_sidebar": "Contents",
   "toc_cell": false,
   "toc_position": {
    "height": "calc(100% - 180px)",
    "left": "10px",
    "top": "150px",
    "width": "165px"
   },
   "toc_section_display": true,
   "toc_window_display": true
  },
  "varInspector": {
   "cols": {
    "lenName": 16,
    "lenType": 16,
    "lenVar": 40
   },
   "kernels_config": {
    "python": {
     "delete_cmd_postfix": "",
     "delete_cmd_prefix": "del ",
     "library": "var_list.py",
     "varRefreshCmd": "print(var_dic_list())"
    },
    "r": {
     "delete_cmd_postfix": ") ",
     "delete_cmd_prefix": "rm(",
     "library": "var_list.r",
     "varRefreshCmd": "cat(var_dic_list()) "
    }
   },
   "types_to_exclude": [
    "module",
    "function",
    "builtin_function_or_method",
    "instance",
    "_Feature"
   ],
   "window_display": false
  }
 },
 "nbformat": 4,
 "nbformat_minor": 5
}
